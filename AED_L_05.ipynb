{
  "nbformat": 4,
  "nbformat_minor": 0,
  "metadata": {
    "colab": {
      "name": "Untitled4.ipynb",
      "provenance": [],
      "authorship_tag": "ABX9TyMwiSGQ5xMBifpsqwJreUiF",
      "include_colab_link": true
    },
    "kernelspec": {
      "name": "python3",
      "display_name": "Python 3"
    },
    "language_info": {
      "name": "python"
    }
  },
  "cells": [
    {
      "cell_type": "markdown",
      "metadata": {
        "id": "view-in-github",
        "colab_type": "text"
      },
      "source": [
        "<a href=\"https://colab.research.google.com/github/kacpercierpiak/AED_LAB/blob/main/AED_L_05.ipynb\" target=\"_parent\"><img src=\"https://colab.research.google.com/assets/colab-badge.svg\" alt=\"Open In Colab\"/></a>"
      ]
    },
    {
      "cell_type": "markdown",
      "metadata": {
        "id": "x9fxtXhvBSlp"
      },
      "source": [
        "# **ALGORYTMY I EKSPLORACJA DANYCH**\n",
        "# *LAB5 - Uczenie zespołowe*"
      ]
    },
    {
      "cell_type": "code",
      "metadata": {
        "id": "lEzm1thtBQU3"
      },
      "source": [
        "import requests, zipfile, io\n",
        "rootPath = './LAB4'\n",
        "url='https://archive.ics.uci.edu/ml/machine-learning-databases/00341/HAPT%20Data%20Set.zip'\n",
        "r = requests.get(url)\n",
        "z = zipfile.ZipFile(io.BytesIO(r.content))\n",
        "z.extractall(rootPath)"
      ],
      "execution_count": 1,
      "outputs": []
    },
    {
      "cell_type": "markdown",
      "metadata": {
        "id": "sh-YtbXXHx50"
      },
      "source": [
        "##Zadanie 1\n"
      ]
    },
    {
      "cell_type": "code",
      "metadata": {
        "id": "i29ci9fZCtOr"
      },
      "source": [
        "import pandas as pd\n",
        "import numpy as np\n",
        "import matplotlib.pyplot as plt\n",
        "from sklearn import metrics\n",
        "X_train = np.genfromtxt(rootPath+'/Train/X_train.txt',delimiter=' ')\n",
        "y_train = np.genfromtxt(rootPath+'/Train/y_train.txt',delimiter=' ')\n",
        "X_test = np.genfromtxt(rootPath+'/Test/X_test.txt',delimiter=' ')\n",
        "y_test = np.genfromtxt(rootPath+'/Test/y_test.txt',delimiter=' ')"
      ],
      "execution_count": 11,
      "outputs": []
    },
    {
      "cell_type": "markdown",
      "metadata": {
        "id": "_ir9yx0jH3D0"
      },
      "source": [
        "###Zadanie 2\n",
        "Wykorzystując zbiór danych z poprzednich laboratoriów wykonaj uczenie zespołowe"
      ]
    },
    {
      "cell_type": "code",
      "metadata": {
        "id": "UspX05DGFvhn"
      },
      "source": [
        "def model_desc(pred):\n",
        "             conf = metrics.confusion_matrix(y_test, pred)\n",
        "             plt.imshow(conf, interpolation='nearest')\n",
        "             plt.show()\n",
        "             print(\"Accuracy: \",metrics.accuracy_score(y_test, pred))\n",
        "             print(\"Recall: \", metrics.recall_score(y_test, pred,average='macro'))\n",
        "             print(\"F1: \", metrics.f1_score(y_test, pred,average='macro'))\n",
        "             fpr, tpr, thresholds = metrics.roc_curve(y_test, pred, pos_label=2)\n",
        "             print(\"AUC: \",metrics.auc(fpr, tpr) )"
      ],
      "execution_count": 9,
      "outputs": []
    },
    {
      "cell_type": "code",
      "metadata": {
        "colab": {
          "base_uri": "https://localhost:8080/"
        },
        "id": "e1C5c5rPDkgw",
        "outputId": "9c5714b2-ab1c-4af7-e1eb-405948ac93a4"
      },
      "source": [
        "from sklearn.neighbors import KNeighborsClassifier\n",
        "from sklearn.tree import DecisionTreeClassifier\n",
        "from sklearn.svm import SVC\n",
        "from sklearn.ensemble import VotingClassifier\n",
        "from sklearn import model_selection\n",
        "\n",
        "estimators = []\n",
        "model1 = KNeighborsClassifier(n_neighbors=7)\n",
        "estimators.append(('knn', model1))\n",
        "model2 = DecisionTreeClassifier(min_samples_split=3, min_samples_leaf=2)\n",
        "estimators.append(('cart', model2))\n",
        "model3 = SVC(kernel='linear',C=0.26)\n",
        "estimators.append(('svm', model3))\n",
        "ensemble = VotingClassifier(estimators)\n",
        "resultsVoting = model_selection.cross_val_score(ensemble, X_train, y_train)\n",
        "print('Cross Validation', resultsVoting.mean())"
      ],
      "execution_count": 26,
      "outputs": [
        {
          "output_type": "stream",
          "name": "stdout",
          "text": [
            "Cross Validation 0.9199222495423397\n"
          ]
        }
      ]
    },
    {
      "cell_type": "code",
      "metadata": {
        "colab": {
          "base_uri": "https://localhost:8080/",
          "height": 339
        },
        "id": "GNnIf31rFzc-",
        "outputId": "2cd3d514-2963-420e-9989-74abd22bb89e"
      },
      "source": [
        "ensemble.fit(X_train, y_train)\n",
        "pred = ensemble.predict(X_test)\n",
        "model_desc(pred)"
      ],
      "execution_count": 12,
      "outputs": [
        {
          "output_type": "display_data",
          "data": {
            "image/png": "[encoded data removed]",
            "text/plain": [
              "<Figure size 432x288 with 1 Axes>"
            ]
          },
          "metadata": {
            "needs_background": "light"
          }
        },
        {
          "output_type": "stream",
          "name": "stdout",
          "text": [
            "Accuracy:  0.9275774826059456\n",
            "Recall:  0.8507282499010599\n",
            "F1:  0.8624536350835696\n",
            "AUC:  0.19524663875259282\n"
          ]
        }
      ]
    },
    {
      "cell_type": "code",
      "metadata": {
        "id": "0q8GstqDGLRv"
      },
      "source": [
        "df = pd.DataFrame(X_test)\n",
        "df['Pred'] = pred\n",
        "filepath = 'ensemble_learning.xlsx'\n",
        "\n",
        "df.to_excel(filepath, index=False)"
      ],
      "execution_count": 17,
      "outputs": []
    },
    {
      "cell_type": "markdown",
      "metadata": {
        "id": "4c0sOnwWIElc"
      },
      "source": [
        "###Zadanie 3\n",
        "Wykorzystując zbiór danych z poprzednich laboratoriów wykonaj uczenie zespołowe stosując\n",
        "agregację klasyfikatorów"
      ]
    },
    {
      "cell_type": "code",
      "metadata": {
        "colab": {
          "base_uri": "https://localhost:8080/"
        },
        "id": "Ld2l2ciRJCCR",
        "outputId": "cf050d17-af6e-4d39-b69d-004d8279429f"
      },
      "source": [
        "from sklearn.ensemble import BaggingClassifier\n",
        "from sklearn import model_selection\n",
        "kfold = model_selection.KFold(n_splits=10)\n",
        "estimators = []\n",
        "model1 = BaggingClassifier(KNeighborsClassifier(n_neighbors=7))\n",
        "estimators.append(('knn', model1))\n",
        "model2 = BaggingClassifier(DecisionTreeClassifier(min_samples_split=3, min_samples_leaf=2))\n",
        "estimators.append(('cart', model2))\n",
        "model3 = BaggingClassifier(SVC(kernel='linear',C=0.26))\n",
        "estimators.append(('svm', model3))\n",
        "ensembleBagging = VotingClassifier(estimators)\n",
        "resultsBagging = model_selection.cross_val_score(ensembleBagging, X_train, y_train, cv=kfold)\n",
        "print('Cross Validation', resultsBagging.mean())"
      ],
      "execution_count": 45,
      "outputs": [
        {
          "output_type": "stream",
          "name": "stdout",
          "text": [
            "Cross Validation 0.9203097587514844\n"
          ]
        }
      ]
    },
    {
      "cell_type": "code",
      "metadata": {
        "colab": {
          "base_uri": "https://localhost:8080/",
          "height": 339
        },
        "id": "FOvHqOdVMbUk",
        "outputId": "3600d74e-766b-44f6-d056-e0d3412e19b4"
      },
      "source": [
        "ensembleBagging.fit(X_train, y_train)\n",
        "predBagging = ensembleBagging.predict(X_test)\n",
        "model_desc(predBagging)"
      ],
      "execution_count": 46,
      "outputs": [
        {
          "output_type": "display_data",
          "data": {
            "image/png": "[encoded data removed]",
            "text/plain": [
              "<Figure size 432x288 with 1 Axes>"
            ]
          },
          "metadata": {
            "needs_background": "light"
          }
        },
        {
          "output_type": "stream",
          "name": "stdout",
          "text": [
            "Accuracy:  0.928842504743833\n",
            "Recall:  0.8439998075948315\n",
            "F1:  0.8546130566150757\n",
            "AUC:  0.19185600188092572\n"
          ]
        }
      ]
    },
    {
      "cell_type": "code",
      "metadata": {
        "id": "iXKy9of2MdRu"
      },
      "source": [
        "df = pd.DataFrame(X_test)\n",
        "df['Pred'] = predBagging\n",
        "filepath = 'aggregating.xlsx'\n",
        "\n",
        "df.to_excel(filepath, index=False)"
      ],
      "execution_count": 31,
      "outputs": []
    },
    {
      "cell_type": "markdown",
      "metadata": {
        "id": "x23yeUdzNN6h"
      },
      "source": [
        "###Zadanie 4\n",
        "Wykonaj tożsame zadanie klasyfikacji jak w poprzednich ćwiczeniach dla następujących\n",
        "metod uczenia zespołowego przyjmując domyślne parametry:\n",
        "- ADABoost\n",
        "- XGBoost"
      ]
    },
    {
      "cell_type": "code",
      "metadata": {
        "colab": {
          "base_uri": "https://localhost:8080/"
        },
        "id": "F0jwxKYlNUhj",
        "outputId": "8390129d-70c5-463e-c09b-bacce3a25ddd"
      },
      "source": [
        "from sklearn.ensemble import AdaBoostClassifier\n",
        "modelAda = AdaBoostClassifier()\n",
        "\n",
        "resultsAda = model_selection.cross_val_score(modelAda, X_train, y_train)\n",
        "print('Cross Validation', resultsAda.mean())"
      ],
      "execution_count": 59,
      "outputs": [
        {
          "output_type": "stream",
          "name": "stdout",
          "text": [
            "Cross Validation 0.5249137924604763\n"
          ]
        }
      ]
    },
    {
      "cell_type": "code",
      "metadata": {
        "colab": {
          "base_uri": "https://localhost:8080/",
          "height": 339
        },
        "id": "upkMou4lX6SY",
        "outputId": "e827f8e3-d0bc-4099-f35e-2e0df88fc7a3"
      },
      "source": [
        "modelAda.fit(X_train, y_train)\n",
        "predAda = modelAda.predict(X_test)\n",
        "model_desc(predAda)"
      ],
      "execution_count": 62,
      "outputs": [
        {
          "output_type": "display_data",
          "data": {
            "image/png": "[encoded data removed]",
            "text/plain": [
              "<Figure size 432x288 with 1 Axes>"
            ]
          },
          "metadata": {
            "needs_background": "light"
          }
        },
        {
          "output_type": "stream",
          "name": "stdout",
          "text": [
            "Accuracy:  0.5196078431372549\n",
            "Recall:  0.40262077336156094\n",
            "F1:  0.2760728174057613\n",
            "AUC:  0.17827688583711848\n"
          ]
        }
      ]
    },
    {
      "cell_type": "code",
      "metadata": {
        "id": "rMmQH3w0hmiM"
      },
      "source": [
        "df = pd.DataFrame(X_test)\n",
        "df['Pred'] = predAda\n",
        "filepath = 'boostingAda.xlsx'\n",
        "\n",
        "df.to_excel(filepath, index=False)"
      ],
      "execution_count": 63,
      "outputs": []
    },
    {
      "cell_type": "code",
      "metadata": {
        "colab": {
          "base_uri": "https://localhost:8080/"
        },
        "id": "-KQywxrdXO-7",
        "outputId": "092303b9-25aa-4711-c695-f07ec5a9c2f3"
      },
      "source": [
        "import xgboost as xgb\n",
        "modelXgb = xgb.XGBClassifier()\n",
        "resultsXgb = model_selection.cross_val_score(modelXgb, X_train, y_train, cv=2)\n",
        "print('Cross Validation', resultsXgb.mean())"
      ],
      "execution_count": 72,
      "outputs": [
        {
          "output_type": "stream",
          "name": "stdout",
          "text": [
            "Cross Validation 0.8998334192218158\n"
          ]
        }
      ]
    },
    {
      "cell_type": "code",
      "metadata": {
        "colab": {
          "base_uri": "https://localhost:8080/",
          "height": 339
        },
        "id": "1E_VevLEhvKe",
        "outputId": "cc73f945-eb2d-47fe-a39b-dea907117b95"
      },
      "source": [
        "modelXgb.fit(X_train, y_train)\n",
        "predXgb = modelXgb.predict(X_test)\n",
        "model_desc(predXgb)"
      ],
      "execution_count": 74,
      "outputs": [
        {
          "output_type": "display_data",
          "data": {
            "image/png": "[encoded data removed]",
            "text/plain": [
              "<Figure size 432x288 with 1 Axes>"
            ]
          },
          "metadata": {
            "needs_background": "light"
          }
        },
        {
          "output_type": "stream",
          "name": "stdout",
          "text": [
            "Accuracy:  0.9259962049335864\n",
            "Recall:  0.8378306371351335\n",
            "F1:  0.8329979060141509\n",
            "AUC:  0.18779631089240617\n"
          ]
        }
      ]
    },
    {
      "cell_type": "code",
      "metadata": {
        "id": "RaPQ5k0Xh63k"
      },
      "source": [
        "df = pd.DataFrame(X_test)\n",
        "df['Pred'] = predXgb\n",
        "filepath = 'boostingXgb.xlsx'\n",
        "\n",
        "df.to_excel(filepath, index=False)"
      ],
      "execution_count": 75,
      "outputs": []
    },
    {
      "cell_type": "markdown",
      "metadata": {
        "id": "CpenG7ySjBoW"
      },
      "source": [
        "###Zadanie 5\n",
        "Porównaj wyniki klasyfikacji wszystkich metod uczenia zespołowego w zbiorczej tabeli na\n",
        "podstawie następujących kryteriów:"
      ]
    },
    {
      "cell_type": "code",
      "metadata": {
        "id": "FpNkkTaajNPa"
      },
      "source": [
        "def desc_fun(pred):\n",
        "  acc = metrics.accuracy_score(y_test, pred)\n",
        "  recall = metrics.recall_score(y_test, pred,average='macro')\n",
        "  f1 = metrics.f1_score(y_test, pred,average='macro')\n",
        "  fpr, tpr, thresholds = metrics.roc_curve(y_test, pred, pos_label=2)\n",
        "  auc = metrics.auc(fpr, tpr)\n",
        "  return [acc, recall,f1,auc]"
      ],
      "execution_count": 76,
      "outputs": []
    },
    {
      "cell_type": "code",
      "metadata": {
        "id": "ft59bBc5jFmQ"
      },
      "source": [
        "result = []\n",
        "result.append(desc_fun(pred))\n",
        "result.append(desc_fun(predBagging))\n",
        "result.append(desc_fun(predAda))\n",
        "result.append(desc_fun(predXgb))\n",
        "df = pd.DataFrame(data=result, columns=[\"acc\", \"recall\", \"f1\", \"auc\"], index=[\"ensemble_learning\",\"Bagging\",\"Ada\",\"XGB\"])\n",
        "filepath = 'comparison.xlsx'\n",
        "\n",
        "df.to_excel(filepath, index=False)"
      ],
      "execution_count": 77,
      "outputs": []
    },
    {
      "cell_type": "code",
      "metadata": {
        "colab": {
          "base_uri": "https://localhost:8080/",
          "height": 175
        },
        "id": "ZJfihsv3m758",
        "outputId": "82492fa1-1dbc-456a-8f9c-b6e4efcc06d9"
      },
      "source": [
        "df"
      ],
      "execution_count": 78,
      "outputs": [
        {
          "output_type": "execute_result",
          "data": {
            "text/html": [
              "<div>\n",
              "<style scoped>\n",
              "    .dataframe tbody tr th:only-of-type {\n",
              "        vertical-align: middle;\n",
              "    }\n",
              "\n",
              "    .dataframe tbody tr th {\n",
              "        vertical-align: top;\n",
              "    }\n",
              "\n",
              "    .dataframe thead th {\n",
              "        text-align: right;\n",
              "    }\n",
              "</style>\n",
              "<table border=\"1\" class=\"dataframe\">\n",
              "  <thead>\n",
              "    <tr style=\"text-align: right;\">\n",
              "      <th></th>\n",
              "      <th>acc</th>\n",
              "      <th>recall</th>\n",
              "      <th>f1</th>\n",
              "      <th>auc</th>\n",
              "    </tr>\n",
              "  </thead>\n",
              "  <tbody>\n",
              "    <tr>\n",
              "      <th>ensemble_learning</th>\n",
              "      <td>0.927577</td>\n",
              "      <td>0.850728</td>\n",
              "      <td>0.862454</td>\n",
              "      <td>0.195247</td>\n",
              "    </tr>\n",
              "    <tr>\n",
              "      <th>Bagging</th>\n",
              "      <td>0.928843</td>\n",
              "      <td>0.844000</td>\n",
              "      <td>0.854613</td>\n",
              "      <td>0.191856</td>\n",
              "    </tr>\n",
              "    <tr>\n",
              "      <th>Ada</th>\n",
              "      <td>0.519608</td>\n",
              "      <td>0.402621</td>\n",
              "      <td>0.276073</td>\n",
              "      <td>0.178277</td>\n",
              "    </tr>\n",
              "    <tr>\n",
              "      <th>XGB</th>\n",
              "      <td>0.925996</td>\n",
              "      <td>0.837831</td>\n",
              "      <td>0.832998</td>\n",
              "      <td>0.187796</td>\n",
              "    </tr>\n",
              "  </tbody>\n",
              "</table>\n",
              "</div>"
            ],
            "text/plain": [
              "                        acc    recall        f1       auc\n",
              "ensemble_learning  0.927577  0.850728  0.862454  0.195247\n",
              "Bagging            0.928843  0.844000  0.854613  0.191856\n",
              "Ada                0.519608  0.402621  0.276073  0.178277\n",
              "XGB                0.925996  0.837831  0.832998  0.187796"
            ]
          },
          "metadata": {},
          "execution_count": 78
        }
      ]
    }
  ]
}