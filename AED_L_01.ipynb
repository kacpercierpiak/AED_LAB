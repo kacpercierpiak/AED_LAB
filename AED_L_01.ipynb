{
  "nbformat": 4,
  "nbformat_minor": 0,
  "metadata": {
    "colab": {
      "name": "AED_L_01.ipynb",
      "provenance": [],
      "authorship_tag": "ABX9TyMz/Li36Q7GtoyCTPtozx6u",
      "include_colab_link": true
    },
    "kernelspec": {
      "name": "python3",
      "display_name": "Python 3"
    },
    "language_info": {
      "name": "python"
    }
  },
  "cells": [
    {
      "cell_type": "markdown",
      "metadata": {
        "id": "view-in-github",
        "colab_type": "text"
      },
      "source": [
        "<a href=\"https://colab.research.google.com/github/kacpercierpiak/AED_LAB/blob/main/AED_L_01.ipynb\" target=\"_parent\"><img src=\"https://colab.research.google.com/assets/colab-badge.svg\" alt=\"Open In Colab\"/></a>"
      ]
    },
    {
      "cell_type": "markdown",
      "metadata": {
        "id": "dVm_m_n_HfQT"
      },
      "source": [
        "# **ALGORYTMY I EKSPLORACJA DANYCH**\n",
        "# *LAB1 - Eksploracja zbiorów danych*\n"
      ]
    },
    {
      "cell_type": "code",
      "metadata": {
        "id": "AiEu-8NWEupl",
        "colab": {
          "base_uri": "https://localhost:8080/"
        },
        "outputId": "459efe3d-f873-4af9-bbbd-28ae5a94d7f5"
      },
      "source": [
        "import shutil\n",
        "\n",
        "shutil.rmtree('./AED_LAB_DATA', ignore_errors=True)\n",
        "!git clone https://github.com/kacpercierpiak/AED_LAB_DATA.git\n",
        "\n",
        "rootPath = './AED_LAB_DATA/LAB1/'"
      ],
      "execution_count": 48,
      "outputs": [
        {
          "output_type": "stream",
          "name": "stdout",
          "text": [
            "Cloning into 'AED_LAB_DATA'...\n",
            "remote: Enumerating objects: 7, done.\u001b[K\n",
            "remote: Counting objects: 100% (7/7), done.\u001b[K\n",
            "remote: Compressing objects: 100% (4/4), done.\u001b[K\n",
            "remote: Total 7 (delta 0), reused 0 (delta 0), pack-reused 0\u001b[K\n",
            "Unpacking objects: 100% (7/7), done.\n"
          ]
        }
      ]
    },
    {
      "cell_type": "markdown",
      "metadata": {
        "id": "sQs_1-BcHjtf"
      },
      "source": [
        "### **Zadanie 1**\n",
        "Wczytaj dane pobrane z serwisu kaggle.com do obiektu DataFrame.\n",
        "\n",
        "Link do zbioru danych CSV: \n",
        "https://www.kaggle.com/shivamb/netflix-shows?select=netflix_titles.csv \n",
        "\n"
      ]
    },
    {
      "cell_type": "code",
      "metadata": {
        "id": "f5Jku-qbO6bH"
      },
      "source": [
        "import pandas as pd\n",
        "df = pd.read_csv (rootPath+'netflix_titles.csv')"
      ],
      "execution_count": 49,
      "outputs": []
    },
    {
      "cell_type": "markdown",
      "metadata": {
        "id": "HvOeaGfCgPO6"
      },
      "source": [
        "**Jako wynik działania programu wypisz następujące informacje:**\n",
        "1. Ilość wczytanych wierszy danych"
      ]
    },
    {
      "cell_type": "code",
      "metadata": {
        "id": "pfJCpbMLdSAQ",
        "outputId": "05d3b357-7bea-4fd7-d37b-ce87a8f917f3",
        "colab": {
          "base_uri": "https://localhost:8080/"
        }
      },
      "source": [
        "print(len(df))"
      ],
      "execution_count": 50,
      "outputs": [
        {
          "output_type": "stream",
          "name": "stdout",
          "text": [
            "8807\n"
          ]
        }
      ]
    },
    {
      "cell_type": "markdown",
      "metadata": {
        "id": "77uNMBU2gaUm"
      },
      "source": [
        "2. Wymiar wczytanych danych (kolumny x indeksy) "
      ]
    },
    {
      "cell_type": "code",
      "metadata": {
        "id": "9i7RsmrqdTQu",
        "outputId": "b8cf25c3-a18d-4445-a124-dc28217743b0",
        "colab": {
          "base_uri": "https://localhost:8080/"
        }
      },
      "source": [
        "print(str(df.shape[1]) + ' x ' + str(df.shape[0]))"
      ],
      "execution_count": 52,
      "outputs": [
        {
          "output_type": "stream",
          "name": "stdout",
          "text": [
            "12 x 8807\n"
          ]
        }
      ]
    },
    {
      "cell_type": "markdown",
      "metadata": {
        "id": "YwW1tJ2NghKR"
      },
      "source": [
        "3. Zlicz ilość wartość pustych (jeśli w są) w każdej z kolumn "
      ]
    },
    {
      "cell_type": "code",
      "metadata": {
        "id": "DVFbodnLe1YU",
        "outputId": "ff5dbab4-da3b-49cd-9627-81b95e6fd77e",
        "colab": {
          "base_uri": "https://localhost:8080/"
        }
      },
      "source": [
        "print(df.isnull().sum())"
      ],
      "execution_count": 20,
      "outputs": [
        {
          "output_type": "execute_result",
          "data": {
            "text/plain": [
              "show_id            0\n",
              "type               0\n",
              "title              0\n",
              "director        2634\n",
              "cast             825\n",
              "country          831\n",
              "date_added        10\n",
              "release_year       0\n",
              "rating             4\n",
              "duration           3\n",
              "listed_in          0\n",
              "description        0\n",
              "dtype: int64"
            ]
          },
          "metadata": {},
          "execution_count": 20
        }
      ]
    },
    {
      "cell_type": "markdown",
      "metadata": {
        "id": "RD4suFwFhCTl"
      },
      "source": [
        "Suma wszystkich pustych wartości"
      ]
    },
    {
      "cell_type": "code",
      "metadata": {
        "id": "xWGn2b7qf5v6",
        "outputId": "75316b2d-aff8-4147-f5ef-bde9ce9ed415",
        "colab": {
          "base_uri": "https://localhost:8080/"
        }
      },
      "source": [
        "print(df.isnull().sum().sum())"
      ],
      "execution_count": 22,
      "outputs": [
        {
          "output_type": "execute_result",
          "data": {
            "text/plain": [
              "4307"
            ]
          },
          "metadata": {},
          "execution_count": 22
        }
      ]
    },
    {
      "cell_type": "markdown",
      "metadata": {
        "id": "-w95qfnohi-v"
      },
      "source": [
        "### **Zadanie 2**\n",
        "Wczytaj dane o nazwie titanic pobrane z biblioteki seaborn do obiektu DataFrame."
      ]
    },
    {
      "cell_type": "code",
      "metadata": {
        "id": "GKQ1WIpRhn0O",
        "outputId": "6cd439ed-d081-447b-8664-8f5d8e6aa86e",
        "colab": {
          "base_uri": "https://localhost:8080/"
        }
      },
      "source": [
        "import seaborn as sns\n",
        "\n",
        "titanic = sns.load_dataset(\"titanic\")\n",
        "print('Ilosc NaN w zbiorze')\n",
        "print(titanic.isna().sum().sum())\n"
      ],
      "execution_count": 60,
      "outputs": [
        {
          "output_type": "stream",
          "name": "stdout",
          "text": [
            "Ilosc NaN w zbiorze\n",
            "869\n"
          ]
        }
      ]
    },
    {
      "cell_type": "code",
      "metadata": {
        "id": "jb_DmSdMlLT4",
        "outputId": "2bdfea2e-af05-4e82-93d1-138287e8f23e",
        "colab": {
          "base_uri": "https://localhost:8080/"
        }
      },
      "source": [
        "print(titanic.isnull().sum())"
      ],
      "execution_count": 61,
      "outputs": [
        {
          "output_type": "stream",
          "name": "stdout",
          "text": [
            "survived         0\n",
            "pclass           0\n",
            "sex              0\n",
            "age            177\n",
            "sibsp            0\n",
            "parch            0\n",
            "fare             0\n",
            "embarked         2\n",
            "class            0\n",
            "who              0\n",
            "adult_male       0\n",
            "deck           688\n",
            "embark_town      2\n",
            "alive            0\n",
            "alone            0\n",
            "dtype: int64\n"
          ]
        }
      ]
    },
    {
      "cell_type": "code",
      "metadata": {
        "id": "80mGMUTlmRGV",
        "outputId": "862df7fc-c32e-4091-e668-171443d76119",
        "colab": {
          "base_uri": "https://localhost:8080/"
        }
      },
      "source": [
        "thresh = len(titanic) * .3\n",
        "titanic.dropna(thresh = thresh, axis = 1, inplace = True)\n",
        "print(titanic.isnull().sum())"
      ],
      "execution_count": 62,
      "outputs": [
        {
          "output_type": "stream",
          "name": "stdout",
          "text": [
            "survived         0\n",
            "pclass           0\n",
            "sex              0\n",
            "age            177\n",
            "sibsp            0\n",
            "parch            0\n",
            "fare             0\n",
            "embarked         2\n",
            "class            0\n",
            "who              0\n",
            "adult_male       0\n",
            "embark_town      2\n",
            "alive            0\n",
            "alone            0\n",
            "dtype: int64\n"
          ]
        }
      ]
    },
    {
      "cell_type": "code",
      "metadata": {
        "id": "6jDsN-R7mnDb"
      },
      "source": [
        "titanic['sex'].replace(['female','male'],[0,1],inplace=True)"
      ],
      "execution_count": 63,
      "outputs": []
    },
    {
      "cell_type": "markdown",
      "metadata": {
        "id": "jocSAW18nHAy"
      },
      "source": [
        "### **Zadanie 3**\n",
        "Na podstawie danych publikowanych w serwisie GitHub za pomocą GitHub API wykonaj\n",
        "następujące operacje:"
      ]
    },
    {
      "cell_type": "code",
      "metadata": {
        "id": "37OMDEn3nbBX",
        "outputId": "a0b43be9-4ca9-48e2-9aff-0d27e7a2cc4a",
        "colab": {
          "base_uri": "https://localhost:8080/"
        }
      },
      "source": [
        "import urllib.request, json \n",
        "import pandas as pd\n",
        "#with urllib.request.urlopen(\"https://api.github.com/users/MikiKru/repos\") as url:\n",
        "   # data = json.loads(url.read().decode())\n",
        "df = pd.json_normalize(data)\n",
        "result = df['language'].value_counts()\n",
        "result = result.append(pd.Series(len(df)-result.sum(),index=['None'], name='language'))\n",
        "result = result/len(df)*100\n",
        "print(result)\n",
        "\n",
        "\n"
      ],
      "execution_count": 146,
      "outputs": [
        {
          "output_type": "stream",
          "name": "stdout",
          "text": [
            "Java                46.666667\n",
            "C++                 13.333333\n",
            "Python              10.000000\n",
            "Jupyter Notebook     6.666667\n",
            "CMake                3.333333\n",
            "C#                   3.333333\n",
            "TSQL                 3.333333\n",
            "None                13.333333\n",
            "Name: language, dtype: float64\n"
          ]
        }
      ]
    },
    {
      "cell_type": "code",
      "metadata": {
        "id": "JDe0gHjrsSzk",
        "outputId": "1dba7914-e74c-406e-b182-db810e0a55f7",
        "colab": {
          "base_uri": "https://localhost:8080/",
          "height": 592
        }
      },
      "source": [
        "result.plot.pie(figsize=(10, 10))"
      ],
      "execution_count": 147,
      "outputs": [
        {
          "output_type": "execute_result",
          "data": {
            "text/plain": [
              "<matplotlib.axes._subplots.AxesSubplot at 0x7f20def6d2d0>"
            ]
          },
          "metadata": {},
          "execution_count": 147
        },
        {
          "output_type": "display_data",
          "data": {
            "image/png": "[encoded data removed]",
            "text/plain": [
              "<Figure size 720x720 with 1 Axes>"
            ]
          },
          "metadata": {}
        }
      ]
    }
  ]
}