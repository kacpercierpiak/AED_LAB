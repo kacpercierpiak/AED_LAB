{
  "nbformat": 4,
  "nbformat_minor": 0,
  "metadata": {
    "colab": {
      "name": "Untitled3.ipynb",
      "provenance": [],
      "collapsed_sections": [],
      "authorship_tag": "ABX9TyPhpmqOP4/5lva8rhUwUfmb",
      "include_colab_link": true
    },
    "kernelspec": {
      "name": "python3",
      "display_name": "Python 3"
    },
    "language_info": {
      "name": "python"
    }
  },
  "cells": [
    {
      "cell_type": "markdown",
      "metadata": {
        "id": "view-in-github",
        "colab_type": "text"
      },
      "source": [
        "<a href=\"https://colab.research.google.com/github/kacpercierpiak/AED_LAB/blob/main/AED_L_04.ipynb\" target=\"_parent\"><img src=\"https://colab.research.google.com/assets/colab-badge.svg\" alt=\"Open In Colab\"/></a>"
      ]
    },
    {
      "cell_type": "markdown",
      "metadata": {
        "id": "A-P7KlsM1Ohc"
      },
      "source": [
        "# **ALGORYTMY I EKSPLORACJA DANYCH**\n",
        "# *LAB4 - Uczenie z nadzorem*"
      ]
    },
    {
      "cell_type": "code",
      "metadata": {
        "id": "blmCqjR_sfdR"
      },
      "source": [
        "import requests, zipfile, io\n",
        "rootPath = './LAB4'\n",
        "url='https://archive.ics.uci.edu/ml/machine-learning-databases/00341/HAPT%20Data%20Set.zip'\n",
        "r = requests.get(url)\n",
        "z = zipfile.ZipFile(io.BytesIO(r.content))\n",
        "z.extractall(rootPath)\n"
      ],
      "execution_count": 49,
      "outputs": []
    },
    {
      "cell_type": "markdown",
      "metadata": {
        "id": "rTMdTbnK1bM7"
      },
      "source": [
        "##Zadanie 1"
      ]
    },
    {
      "cell_type": "code",
      "metadata": {
        "id": "roEgyVlBup53"
      },
      "source": [
        "import pandas as pd\n",
        "import numpy as np\n",
        "import matplotlib.pyplot as plt\n",
        "X_train = np.genfromtxt(rootPath+'/Train/X_train.txt',delimiter=' ')\n",
        "y_train = np.genfromtxt(rootPath+'/Train/y_train.txt',delimiter=' ')\n",
        "X_test = np.genfromtxt(rootPath+'/Test/X_test.txt',delimiter=' ')\n",
        "y_test = np.genfromtxt(rootPath+'/Test/y_test.txt',delimiter=' ')\n"
      ],
      "execution_count": 99,
      "outputs": []
    },
    {
      "cell_type": "markdown",
      "metadata": {
        "id": "GBrdHkGN1HnB"
      },
      "source": [
        "##Zadanie 2\n",
        "Zbuduj modele predykcyjne na podstawie następujących algorytmów zakładając domyślne parametry:"
      ]
    },
    {
      "cell_type": "markdown",
      "metadata": {
        "id": "fnH3f2EkyuZ_"
      },
      "source": [
        "###SVM"
      ]
    },
    {
      "cell_type": "code",
      "metadata": {
        "colab": {
          "base_uri": "https://localhost:8080/"
        },
        "id": "oEiguJfTuKL8",
        "outputId": "803085e9-40bf-4b5a-d2b5-f1baedf00eec"
      },
      "source": [
        "from sklearn import svm, metrics\n",
        "clf = svm.SVC(kernel='linear')\n",
        "clf.fit(X_train, y_train)\n",
        "svm_pred = clf.predict(X_test)"
      ],
      "execution_count": 51,
      "outputs": [
        {
          "output_type": "stream",
          "name": "stdout",
          "text": [
            "Accuracy: 0.9519291587602783\n"
          ]
        }
      ]
    },
    {
      "cell_type": "markdown",
      "metadata": {
        "id": "dqRT-ia1yweB"
      },
      "source": [
        "###KNN"
      ]
    },
    {
      "cell_type": "code",
      "metadata": {
        "id": "lc7VulvZxGg_"
      },
      "source": [
        "from sklearn.neighbors import KNeighborsClassifier\n",
        "knn_model = KNeighborsClassifier()\n",
        "knn_model.fit(X_train, y_train)\n",
        "knn_pred = knn_model.predict(X_test)"
      ],
      "execution_count": 155,
      "outputs": []
    },
    {
      "cell_type": "markdown",
      "metadata": {
        "id": "ms4RFQeXyx23"
      },
      "source": [
        "### DecisionTree"
      ]
    },
    {
      "cell_type": "code",
      "metadata": {
        "colab": {
          "base_uri": "https://localhost:8080/"
        },
        "id": "NIDMRFYPytqV",
        "outputId": "2d8f4459-c3a2-48d1-ccf0-d53306c899d9"
      },
      "source": [
        "from sklearn import tree\n",
        "dtree = tree.DecisionTreeClassifier()\n",
        "dtree.fit(X_train, y_train)\n",
        "tree_pred = dtree.predict(X_test)"
      ],
      "execution_count": 41,
      "outputs": [
        {
          "output_type": "stream",
          "name": "stdout",
          "text": [
            "Accuracy: 0.8115117014547755\n"
          ]
        }
      ]
    },
    {
      "cell_type": "markdown",
      "metadata": {
        "id": "r8fqan5kyhwa"
      },
      "source": [
        "###RandomForest"
      ]
    },
    {
      "cell_type": "code",
      "metadata": {
        "colab": {
          "base_uri": "https://localhost:8080/"
        },
        "id": "Ddc7nOlB0DWe",
        "outputId": "c2dc6f8e-1b29-4f43-86cc-c30c6b13cc92"
      },
      "source": [
        "from sklearn.ensemble import RandomForestClassifier\n",
        "rforest=RandomForestClassifier()\n",
        "rforest.fit(X_train, y_train)\n",
        "rforest_pred = rforest.predict(X_test)"
      ],
      "execution_count": 45,
      "outputs": [
        {
          "output_type": "stream",
          "name": "stdout",
          "text": [
            "Accuracy: 0.90955091714105\n"
          ]
        }
      ]
    },
    {
      "cell_type": "markdown",
      "metadata": {
        "id": "WWNv-ju81d5T"
      },
      "source": [
        "##Zadanie 3\n",
        "Na podstawie zdefiniowanych metryk oceny klasyfikatorów oceń skuteczność klasyfikacji\n",
        "algorytmów z zadania 2"
      ]
    },
    {
      "cell_type": "markdown",
      "metadata": {
        "id": "RGeYSQrK3KyU"
      },
      "source": [
        "###SVM"
      ]
    },
    {
      "cell_type": "code",
      "metadata": {
        "colab": {
          "base_uri": "https://localhost:8080/",
          "height": 339
        },
        "id": "JR7T17JH1fT3",
        "outputId": "f89878c5-a5bb-43d1-db46-7e42be133a91"
      },
      "source": [
        "conf = metrics.confusion_matrix(y_test, svm_pred)\n",
        "plt.imshow(conf, interpolation='nearest')\n",
        "plt.show()\n",
        "print(\"Accuracy: \",metrics.accuracy_score(y_test, svm_pred))\n",
        "print(\"Recall: \", metrics.recall_score(y_test, svm_pred,average='macro'))\n",
        "print(\"F1: \", metrics.f1_score(y_test, svm_pred,average='macro'))\n",
        "fpr, tpr, thresholds = metrics.roc_curve(y_test, svm_pred, pos_label=2)\n",
        "print(\"AUC: \",metrics.auc(fpr, tpr) )"
      ],
      "execution_count": 117,
      "outputs": [
        {
          "output_type": "display_data",
          "data": {
            "image/png": "[encoded data removed]",
            "text/plain": [
              "<Figure size 432x288 with 1 Axes>"
            ]
          },
          "metadata": {
            "needs_background": "light"
          }
        },
        {
          "output_type": "stream",
          "name": "stdout",
          "text": [
            "Accuracy:  0.9519291587602783\n",
            "Recall:  0.8560427418375562\n",
            "F1:  0.8600533686689769\n",
            "AUC:  0.18280325785172089\n"
          ]
        }
      ]
    },
    {
      "cell_type": "markdown",
      "metadata": {
        "id": "VZ_RIYw63MhV"
      },
      "source": [
        "###KNN"
      ]
    },
    {
      "cell_type": "code",
      "metadata": {
        "colab": {
          "base_uri": "https://localhost:8080/",
          "height": 339
        },
        "id": "gN9hY0Ql3ODl",
        "outputId": "1a3c18dc-1045-4c02-9b1b-496c0ffee056"
      },
      "source": [
        "conf = metrics.confusion_matrix(y_test, knn_pred)\n",
        "plt.imshow(conf, interpolation='nearest')\n",
        "plt.show()\n",
        "print(\"Accuracy:\",metrics.accuracy_score(y_test, knn_pred))\n",
        "print(\"Recall: \", metrics.recall_score(y_test, knn_pred ,average='macro'))\n",
        "print(\"F1: \", metrics.f1_score(y_test, knn_pred,average='macro'))\n",
        "fpr, tpr, thresholds = metrics.roc_curve(y_test, knn_pred, pos_label=2)\n",
        "print(\"AUC: \",metrics.auc(fpr, tpr) )"
      ],
      "execution_count": 157,
      "outputs": [
        {
          "output_type": "display_data",
          "data": {
            "image/png": "[encoded data removed]",
            "text/plain": [
              "<Figure size 432x288 with 1 Axes>"
            ]
          },
          "metadata": {
            "needs_background": "light"
          }
        },
        {
          "output_type": "stream",
          "name": "stdout",
          "text": [
            "Accuracy: 0.954233409610984\n",
            "Recall:  0.8544472899770152\n",
            "F1:  0.8464810954858923\n",
            "AUC:  0.20051083216716992\n"
          ]
        }
      ]
    },
    {
      "cell_type": "markdown",
      "metadata": {
        "id": "37UjGPYY3ffb"
      },
      "source": [
        "### DecisionTree\n"
      ]
    },
    {
      "cell_type": "code",
      "metadata": {
        "colab": {
          "base_uri": "https://localhost:8080/",
          "height": 339
        },
        "id": "m4WYu0rL3ic-",
        "outputId": "ff4d68bf-3539-4ce4-958b-514fa90bc2c1"
      },
      "source": [
        "conf = metrics.confusion_matrix(y_test, tree_pred)\n",
        "plt.imshow(conf, interpolation='nearest')\n",
        "plt.show()\n",
        "print(\"Accuracy:\",metrics.accuracy_score(y_test, tree_pred))\n",
        "print(\"Recall: \", metrics.recall_score(y_test, tree_pred ,average='macro'))\n",
        "print(\"F1: \", metrics.f1_score(y_test, tree_pred,average='macro'))\n",
        "fpr, tpr, thresholds = metrics.roc_curve(y_test, tree_pred, pos_label=2)\n",
        "print(\"AUC: \",metrics.auc(fpr, tpr) )"
      ],
      "execution_count": 116,
      "outputs": [
        {
          "output_type": "display_data",
          "data": {
            "image/png": "[encoded data removed]",
            "text/plain": [
              "<Figure size 432x288 with 1 Axes>"
            ]
          },
          "metadata": {
            "needs_background": "light"
          }
        },
        {
          "output_type": "stream",
          "name": "stdout",
          "text": [
            "Accuracy: 0.8115117014547755\n",
            "Recall:  0.7260412687500216\n",
            "F1:  0.7294845065622765\n",
            "AUC:  0.19163982165920684\n"
          ]
        }
      ]
    },
    {
      "cell_type": "markdown",
      "metadata": {
        "id": "_pkM-T6a3h29"
      },
      "source": [
        "###RandomForest"
      ]
    },
    {
      "cell_type": "code",
      "metadata": {
        "colab": {
          "base_uri": "https://localhost:8080/",
          "height": 339
        },
        "id": "rzGBbgSB3lQR",
        "outputId": "d863abfd-5758-4714-f03f-9bf310741e3a"
      },
      "source": [
        "conf = metrics.confusion_matrix(y_test, rforest_pred)\n",
        "plt.imshow(conf, interpolation='nearest')\n",
        "plt.show()\n",
        "print(\"Accuracy:\",metrics.accuracy_score(y_test, rforest_pred))\n",
        "print(\"Recall: \", metrics.recall_score(y_test, rforest_pred ,average='macro'))\n",
        "print(\"F1: \", metrics.f1_score(y_test, rforest_pred,average='macro'))\n",
        "fpr, tpr, thresholds = metrics.roc_curve(y_test, rforest_pred, pos_label=2)\n",
        "print(\"AUC: \",metrics.auc(fpr, tpr))"
      ],
      "execution_count": 127,
      "outputs": [
        {
          "output_type": "display_data",
          "data": {
            "image/png": "[encoded data removed]",
            "text/plain": [
              "<Figure size 432x288 with 1 Axes>"
            ]
          },
          "metadata": {
            "needs_background": "light"
          }
        },
        {
          "output_type": "stream",
          "name": "stdout",
          "text": [
            "Accuracy: 0.90955091714105\n",
            "Recall:  0.8075711775393676\n",
            "F1:  0.8160415019669736\n",
            "AUC:  0.19142482490585508\n"
          ]
        }
      ]
    },
    {
      "cell_type": "markdown",
      "metadata": {
        "id": "wGgjSBpjB08q"
      },
      "source": [
        "##Zadanie 4\n",
        "Dokonaj wyboru najlepszego algorytmu klasyfikacji na podstawie kros-walidacji (CV) dla 5\n",
        "podprób. Jako rezultat zwróć następujące parametry:\n",
        "- Wartości średniej z wyników klasyfikacji\n",
        "- Średniego odchylenia standardowego z wyników klasyfikacji"
      ]
    },
    {
      "cell_type": "code",
      "metadata": {
        "id": "MEHrqI0lH7bG"
      },
      "source": [
        "from sklearn.model_selection import KFold \n",
        "X = np.concatenate([X_train, X_test])\n",
        "y = np.concatenate([y_train, y_test])\n",
        "kf = KFold(n_splits=5) \n",
        "kf.get_n_splits(X)"
      ],
      "execution_count": null,
      "outputs": []
    },
    {
      "cell_type": "markdown",
      "metadata": {
        "id": "MLYKkdGlLd58"
      },
      "source": [
        "###SVM"
      ]
    },
    {
      "cell_type": "code",
      "metadata": {
        "colab": {
          "base_uri": "https://localhost:8080/"
        },
        "id": "hXiYawioDOC7",
        "outputId": "5bcaadcc-4ad3-479b-9e23-c98207a82e38"
      },
      "source": [
        "acc_arr = []\n",
        "\n",
        "for train_index, test_index in kf.split(X):       \n",
        "     clf = svm.SVC(kernel='linear')\n",
        "     clf.fit(X[train_index], y[train_index])\n",
        "     tmp_pred = clf.predict(X[test_index]) \n",
        "     acc_arr.append(metrics.accuracy_score(y[test_index], tmp_pred)) \n",
        "print(\"Avarage accuracy\",np.average(acc_arr))     \n",
        "print(\"Std: \", np.std(acc_arr)) \n"
      ],
      "execution_count": 146,
      "outputs": [
        {
          "output_type": "stream",
          "name": "stdout",
          "text": [
            "Avarage accuracy 0.9730993779847207\n",
            "Std:  0.0047999238463292265\n"
          ]
        }
      ]
    },
    {
      "cell_type": "markdown",
      "metadata": {
        "id": "nNuFZpeDLgfV"
      },
      "source": [
        "###kNN"
      ]
    },
    {
      "cell_type": "code",
      "metadata": {
        "colab": {
          "base_uri": "https://localhost:8080/"
        },
        "id": "oEgte--dIQX5",
        "outputId": "b4fa398f-d12a-4041-f7e6-ea4e8eb14f41"
      },
      "source": [
        "acc_arr = []\n",
        "\n",
        "for train_index, test_index in kf.split(X):   \n",
        "     knn_model = KNeighborsClassifier()\n",
        "     knn_model.fit(X[train_index], y[train_index])\n",
        "     tmp_pred = knn_model.predict(X[test_index]) \n",
        "     acc_arr.append(metrics.accuracy_score(y[test_index], tmp_pred)) \n",
        "print(\"Avarage accuracy\",np.average(acc_arr))     \n",
        "print(\"Std: \", np.std(acc_arr)) "
      ],
      "execution_count": 158,
      "outputs": [
        {
          "output_type": "stream",
          "name": "stdout",
          "text": [
            "Avarage accuracy 0.9451010277593422\n",
            "Std:  0.006785704433843984\n"
          ]
        }
      ]
    },
    {
      "cell_type": "markdown",
      "metadata": {
        "id": "oUQpOON1LiQF"
      },
      "source": [
        "Decision Tree"
      ]
    },
    {
      "cell_type": "code",
      "metadata": {
        "colab": {
          "base_uri": "https://localhost:8080/"
        },
        "id": "qnCxr7CXKD5b",
        "outputId": "abe49b26-63b3-43a9-8151-d656c8777b30"
      },
      "source": [
        "acc_arr = []\n",
        "\n",
        "for train_index, test_index in kf.split(X):   \n",
        "     dtree = tree.DecisionTreeClassifier()\n",
        "     dtree.fit(X[train_index], y[train_index])\n",
        "     tmp_pred = dtree.predict(X[test_index]) \n",
        "     acc_arr.append(metrics.accuracy_score(y[test_index], tmp_pred)) \n",
        "print(\"Avarage accuracy\",np.average(acc_arr))     \n",
        "print(\"Std: \", np.std(acc_arr)) "
      ],
      "execution_count": 159,
      "outputs": [
        {
          "output_type": "stream",
          "name": "stdout",
          "text": [
            "Avarage accuracy 0.905481899585672\n",
            "Std:  0.010827261347169976\n"
          ]
        }
      ]
    },
    {
      "cell_type": "markdown",
      "metadata": {
        "id": "gEXPKs9OLkJh"
      },
      "source": [
        "Random Forest"
      ]
    },
    {
      "cell_type": "code",
      "metadata": {
        "colab": {
          "base_uri": "https://localhost:8080/"
        },
        "id": "pqNxHa-NKR_f",
        "outputId": "4af973b9-3e5a-49a9-ae0b-bbda46af16e0"
      },
      "source": [
        "acc_arr = []\n",
        "\n",
        "for train_index, test_index in kf.split(X):   \n",
        "     rforest=RandomForestClassifier()\n",
        "     rforest.fit(X[train_index], y[train_index])\n",
        "     tmp_pred = rforest.predict(X[test_index])\n",
        "     acc_arr.append(metrics.accuracy_score(y[test_index], tmp_pred)) \n",
        "print(\"Avarage accuracy\",np.average(acc_arr))     \n",
        "print(\"Std: \", np.std(acc_arr)) "
      ],
      "execution_count": 160,
      "outputs": [
        {
          "output_type": "stream",
          "name": "stdout",
          "text": [
            "Avarage accuracy 0.9607471301667989\n",
            "Std:  0.004700915882018353\n"
          ]
        }
      ]
    },
    {
      "cell_type": "markdown",
      "metadata": {
        "id": "IUqY4ILdLmmm"
      },
      "source": [
        "###Podsumowanie\n",
        "SVM oraz Random forest mają podobne wyniki dokładności oraz odchylenia standardowego. SVM wykonuje się znacznie szybciej dlatego też został uznany za najlepszy algorytm na podstawie CV"
      ]
    }
  ]
}