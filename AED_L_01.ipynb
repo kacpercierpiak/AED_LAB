{
  "nbformat": 4,
  "nbformat_minor": 0,
  "metadata": {
    "colab": {
      "name": "AED_L_01.ipynb",
      "provenance": [],
      "toc_visible": true,
      "authorship_tag": "ABX9TyOhK678EFMulo5CrH9A06tp",
      "include_colab_link": true
    },
    "kernelspec": {
      "name": "python3",
      "display_name": "Python 3"
    },
    "language_info": {
      "name": "python"
    }
  },
  "cells": [
    {
      "cell_type": "markdown",
      "metadata": {
        "id": "view-in-github",
        "colab_type": "text"
      },
      "source": [
        "<a href=\"https://colab.research.google.com/github/kacpercierpiak/AED_LAB/blob/main/AED_L_01.ipynb\" target=\"_parent\"><img src=\"https://colab.research.google.com/assets/colab-badge.svg\" alt=\"Open In Colab\"/></a>"
      ]
    },
    {
      "cell_type": "markdown",
      "metadata": {
        "id": "dVm_m_n_HfQT"
      },
      "source": [
        "# **ALGORYTMY I EKSPLORACJA DANYCH**\n",
        "# *LAB1 - Eksploracja zbiorów danych*\n"
      ]
    },
    {
      "cell_type": "markdown",
      "metadata": {
        "id": "sQs_1-BcHjtf"
      },
      "source": [
        "### **Zadanie 1**\n",
        "Wczytaj dane pobrane z serwisu kaggle.com do obiektu DataFrame.\n",
        "\n",
        "Link do zbioru danych CSV: \n",
        "https://www.kaggle.com/shivamb/netflix-shows?select=netflix_titles.csv \n",
        "\n",
        "Jako wynik działania programu wypisz następujące informacje: \n",
        "1. Ilość wczytanych wierszy danych \n",
        "2. Wymiar wczytanych danych (kolumny x indeksy) \n",
        "3. Zlicz ilość wartość pustych (jeśli w są) w każdej z kolumn "
      ]
    },
    {
      "cell_type": "code",
      "metadata": {
        "id": "AiEu-8NWEupl"
      },
      "source": [
        ""
      ],
      "execution_count": null,
      "outputs": []
    }
  ]
}